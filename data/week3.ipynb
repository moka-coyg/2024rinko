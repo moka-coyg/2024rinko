{
 "cells": [
  {
   "cell_type": "markdown",
   "metadata": {},
   "source": [
    "## 1年生実習 第3週"
   ]
  },
  {
   "cell_type": "markdown",
   "metadata": {},
   "source": [
    "今週は，2週で取得したLeap Motionのデータを分類器を用いて分類します．\n",
    "\n",
    "プログラムの詳細については，コメントを参照してください．わからなければ，M1に質問してください．"
   ]
  },
  {
   "cell_type": "code",
   "execution_count": 7,
   "metadata": {},
   "outputs": [
    {
     "name": "stderr",
     "output_type": "stream",
     "text": [
      "Downloading...\n",
      "From: https://drive.google.com/uc?id=1rcAg1R0rYLoeQ2ColX4BvM80u841qx5W\n",
      "To: /work/1nen_jisshu/lm_classification/data.zip\n",
      "100%|██████████| 128/128 [00:00<00:00, 399kB/s]"
     ]
    },
    {
     "name": "stdout",
     "output_type": "stream",
     "text": [
      "mkdir: cannot create directory ‘data’: File exists\n",
      "Archive:  data.zip\n",
      " extracting: data/test.txt           \n"
     ]
    },
    {
     "name": "stderr",
     "output_type": "stream",
     "text": [
      "\n"
     ]
    }
   ],
   "source": [
    "# 分類するデータのダウンロード\n",
    "import gdown\n",
    "\n",
    "url = \"https://drive.google.com/uc?id=1rcAg1R0rYLoeQ2ColX4BvM80u841qx5W\"\n",
    "output = \"data.zip\"\n",
    "gdown.download(url, output, quiet=False) # Google Driveからdata.zipをダウンロード\n",
    "\n",
    "# ダウンロードしたデータを解凍\n",
    "!mkdir data\n",
    "!unzip -o data.zip -d data\n",
    "!rm data.zip"
   ]
  },
  {
   "cell_type": "code",
   "execution_count": null,
   "metadata": {},
   "outputs": [],
   "source": []
  }
 ],
 "metadata": {
  "kernelspec": {
   "display_name": "Python 3",
   "language": "python",
   "name": "python3"
  },
  "language_info": {
   "codemirror_mode": {
    "name": "ipython",
    "version": 3
   },
   "file_extension": ".py",
   "mimetype": "text/x-python",
   "name": "python",
   "nbconvert_exporter": "python",
   "pygments_lexer": "ipython3",
   "version": "3.10.12"
  }
 },
 "nbformat": 4,
 "nbformat_minor": 2
}
